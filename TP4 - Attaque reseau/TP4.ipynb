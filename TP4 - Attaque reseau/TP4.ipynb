{
 "cells": [
  {
   "cell_type": "code",
   "execution_count": 1,
   "metadata": {},
   "outputs": [
    {
     "name": "stdout",
     "output_type": "stream",
     "text": [
      "WARNING:tensorflow:From c:\\Users\\benja\\Desktop\\Pro\\EFREI\\Machine Learning\\.venv\\Lib\\site-packages\\tf_keras\\src\\losses.py:2976: The name tf.losses.sparse_softmax_cross_entropy is deprecated. Please use tf.compat.v1.losses.sparse_softmax_cross_entropy instead.\n",
      "\n"
     ]
    }
   ],
   "source": [
    "import os\n",
    "os.environ[\"TF_ENABLE_ONEDNN_OPTS\"] = \"0\"\n",
    "import pandas as pd\n",
    "import numpy as np\n",
    "from sklearn.preprocessing import StandardScaler, LabelEncoder\n",
    "from sklearn.cluster import KMeans\n",
    "from sklearn.metrics import classification_report, adjusted_rand_score\n",
    "from tf_keras.models import Sequential\n",
    "from tf_keras.layers import Dense\n",
    "from tf_keras.optimizers import Adam\n",
    "from tf_keras.losses import SparseCategoricalCrossentropy"
   ]
  },
  {
   "cell_type": "code",
   "execution_count": 2,
   "metadata": {},
   "outputs": [],
   "source": [
    "# Charge les datasets NSL-KDD\n",
    "columns = [\n",
    "    \"duration\", \"protocol_type\", \"service\", \"flag\", \"src_bytes\", \"dst_bytes\", \"land\",\n",
    "    \"wrong_fragment\", \"urgent\", \"hot\", \"num_failed_logins\", \"logged_in\", \"num_compromised\",\n",
    "    \"root_shell\", \"su_attempted\", \"num_root\", \"num_file_creations\", \"num_shells\", \"num_access_files\",\n",
    "    \"num_outbound_cmds\", \"is_host_login\", \"is_guest_login\", \"count\", \"srv_count\", \"serror_rate\",\n",
    "    \"srv_serror_rate\", \"rerror_rate\", \"srv_rerror_rate\", \"same_srv_rate\", \"diff_srv_rate\",\n",
    "    \"srv_diff_host_rate\", \"dst_host_count\", \"dst_host_srv_count\", \"dst_host_same_srv_rate\",\n",
    "    \"dst_host_diff_srv_rate\", \"dst_host_same_src_port_rate\", \"dst_host_srv_diff_host_rate\",\n",
    "    \"dst_host_serror_rate\", \"dst_host_srv_serror_rate\", \"dst_host_rerror_rate\", \"dst_host_srv_rerror_rate\",\n",
    "    \"class\", \"difficulty\"\n",
    "]\n",
    "\n",
    "train_data = pd.read_csv(\"Datasets/KDDTrain+.txt\", header=None, names=columns)\n",
    "test_data = pd.read_csv(\"Datasets/KDDTest+.txt\", header=None, names=columns)"
   ]
  },
  {
   "cell_type": "code",
   "execution_count": 3,
   "metadata": {},
   "outputs": [],
   "source": [
    "# Prétraitement des données\n",
    "def preprocess_data(data):\n",
    "    data = data.copy()\n",
    "\n",
    "    # Encodage des colonnes catégoriques\n",
    "    categorical_cols = [\"protocol_type\", \"service\", \"flag\"]\n",
    "    for col in categorical_cols:\n",
    "        encoder = LabelEncoder()\n",
    "        data[col] = encoder.fit_transform(data[col])\n",
    "\n",
    "    # Encodage de la classe cible\n",
    "    data[\"class\"] = data[\"class\"].apply(lambda x: \"benign\" if x == \"normal\" else x)\n",
    "    target_encoder = LabelEncoder()\n",
    "    data[\"class\"] = target_encoder.fit_transform(data[\"class\"])\n",
    "\n",
    "    return data\n",
    "\n",
    "train_data = preprocess_data(train_data)\n",
    "test_data = preprocess_data(test_data)\n",
    "\n",
    "# Séparation des caractéristiques et des cibles\n",
    "X_train = train_data.drop(columns=[\"class\"])\n",
    "y_train = train_data[\"class\"]\n",
    "X_test = test_data.drop(columns=[\"class\"])\n",
    "y_test = test_data[\"class\"]\n",
    "\n",
    "# Standardisation des données\n",
    "scaler = StandardScaler()\n",
    "X_train = scaler.fit_transform(X_train)\n",
    "X_test = scaler.transform(X_test)"
   ]
  },
  {
   "cell_type": "code",
   "execution_count": 4,
   "metadata": {},
   "outputs": [
    {
     "name": "stdout",
     "output_type": "stream",
     "text": [
      "WARNING:tensorflow:From c:\\Users\\benja\\Desktop\\Pro\\EFREI\\Machine Learning\\.venv\\Lib\\site-packages\\tf_keras\\src\\backend.py:873: The name tf.get_default_graph is deprecated. Please use tf.compat.v1.get_default_graph instead.\n",
      "\n",
      "Epoch 1/20\n",
      "WARNING:tensorflow:From c:\\Users\\benja\\Desktop\\Pro\\EFREI\\Machine Learning\\.venv\\Lib\\site-packages\\tf_keras\\src\\utils\\tf_utils.py:492: The name tf.ragged.RaggedTensorValue is deprecated. Please use tf.compat.v1.ragged.RaggedTensorValue instead.\n",
      "\n",
      "WARNING:tensorflow:From c:\\Users\\benja\\Desktop\\Pro\\EFREI\\Machine Learning\\.venv\\Lib\\site-packages\\tf_keras\\src\\engine\\base_layer_utils.py:384: The name tf.executing_eagerly_outside_functions is deprecated. Please use tf.compat.v1.executing_eagerly_outside_functions instead.\n",
      "\n",
      "3937/3937 [==============================] - 3s 688us/step - loss: 0.0925 - accuracy: 0.9795 - val_loss: 14.7443 - val_accuracy: 0.0039\n",
      "Epoch 2/20\n",
      "3937/3937 [==============================] - 3s 679us/step - loss: 0.0183 - accuracy: 0.9947 - val_loss: 17.4541 - val_accuracy: 0.0051\n",
      "Epoch 3/20\n",
      "3937/3937 [==============================] - 3s 684us/step - loss: 0.0130 - accuracy: 0.9960 - val_loss: 19.5361 - val_accuracy: 0.0031\n",
      "Epoch 4/20\n",
      "3937/3937 [==============================] - 3s 694us/step - loss: 0.0108 - accuracy: 0.9967 - val_loss: 22.1630 - val_accuracy: 0.0062\n",
      "Epoch 5/20\n",
      "3937/3937 [==============================] - 3s 685us/step - loss: 0.0090 - accuracy: 0.9973 - val_loss: 27.1716 - val_accuracy: 0.0025\n",
      "Epoch 6/20\n",
      "3937/3937 [==============================] - 3s 689us/step - loss: 0.0086 - accuracy: 0.9973 - val_loss: 27.8753 - val_accuracy: 0.0084\n",
      "Epoch 7/20\n",
      "3937/3937 [==============================] - 3s 684us/step - loss: 0.0077 - accuracy: 0.9977 - val_loss: 28.3688 - val_accuracy: 0.0214\n",
      "Epoch 8/20\n",
      "3937/3937 [==============================] - 3s 683us/step - loss: 0.0085 - accuracy: 0.9977 - val_loss: 30.9787 - val_accuracy: 0.0060\n",
      "Epoch 9/20\n",
      "3937/3937 [==============================] - 3s 693us/step - loss: 0.0066 - accuracy: 0.9979 - val_loss: 34.3589 - val_accuracy: 0.0013\n",
      "Epoch 10/20\n",
      "3937/3937 [==============================] - 3s 701us/step - loss: 0.0064 - accuracy: 0.9980 - val_loss: 34.9743 - val_accuracy: 0.0200\n",
      "Epoch 11/20\n",
      "3937/3937 [==============================] - 3s 701us/step - loss: 0.0061 - accuracy: 0.9979 - val_loss: 40.0153 - val_accuracy: 0.0165\n",
      "Epoch 12/20\n",
      "3937/3937 [==============================] - 3s 704us/step - loss: 0.0059 - accuracy: 0.9981 - val_loss: 39.5044 - val_accuracy: 0.0163\n",
      "Epoch 13/20\n",
      "3937/3937 [==============================] - 3s 694us/step - loss: 0.0054 - accuracy: 0.9982 - val_loss: 39.3667 - val_accuracy: 0.0157\n",
      "Epoch 14/20\n",
      "3937/3937 [==============================] - 3s 699us/step - loss: 0.0073 - accuracy: 0.9982 - val_loss: 45.2024 - val_accuracy: 0.0105\n",
      "Epoch 15/20\n",
      "3937/3937 [==============================] - 3s 702us/step - loss: 0.0052 - accuracy: 0.9982 - val_loss: 46.3641 - val_accuracy: 0.0150\n",
      "Epoch 16/20\n",
      "3937/3937 [==============================] - 3s 707us/step - loss: 0.0050 - accuracy: 0.9983 - val_loss: 49.9782 - val_accuracy: 0.0112\n",
      "Epoch 17/20\n",
      "3937/3937 [==============================] - 3s 707us/step - loss: 0.0049 - accuracy: 0.9984 - val_loss: 53.0173 - val_accuracy: 0.0150\n",
      "Epoch 18/20\n",
      "3937/3937 [==============================] - 3s 707us/step - loss: 0.0047 - accuracy: 0.9985 - val_loss: 53.5679 - val_accuracy: 0.0160\n",
      "Epoch 19/20\n",
      "3937/3937 [==============================] - 3s 696us/step - loss: 0.0047 - accuracy: 0.9985 - val_loss: 59.0101 - val_accuracy: 0.0056\n",
      "Epoch 20/20\n",
      "3937/3937 [==============================] - 3s 693us/step - loss: 0.0051 - accuracy: 0.9984 - val_loss: 61.5712 - val_accuracy: 0.0115\n",
      "Accuracy sur les données de test : 0.011533002369105816\n"
     ]
    }
   ],
   "source": [
    "# Réseau de neurones supervisé\n",
    "total_classes = max(np.max(y_train), np.max(y_test)) + 1\n",
    "\n",
    "model = Sequential([\n",
    "    Dense(64, input_dim=X_train.shape[1], activation='relu'),\n",
    "    Dense(32, activation='relu'),\n",
    "    Dense(total_classes, activation='softmax')\n",
    "])\n",
    "\n",
    "model.compile(optimizer = Adam(learning_rate=0.001), loss=SparseCategoricalCrossentropy(), metrics=[\"accuracy\"])\n",
    "\n",
    "# Entraînement\n",
    "model.fit(X_train, y_train, epochs=20, batch_size=32, validation_data=(X_test, y_test))\n",
    "\n",
    "# Évaluation\n",
    "accuracy = model.evaluate(X_test, y_test, verbose=0)[1]\n",
    "print(\"Accuracy sur les données de test :\", accuracy)"
   ]
  },
  {
   "cell_type": "code",
   "execution_count": 5,
   "metadata": {},
   "outputs": [
    {
     "name": "stdout",
     "output_type": "stream",
     "text": [
      "Score ARI : 0.2920902957582812\n"
     ]
    }
   ],
   "source": [
    "# Méthode K-Means\n",
    "kmeans = KMeans(n_clusters=len(np.unique(y_train)), random_state=42)\n",
    "kmeans.fit(X_train)\n",
    "clusters = kmeans.predict(X_test)\n",
    "\n",
    "# Comparaison des clusters avec les classes réelles\n",
    "print(\"Score ARI :\", adjusted_rand_score(y_test, clusters))"
   ]
  },
  {
   "cell_type": "code",
   "execution_count": 6,
   "metadata": {},
   "outputs": [
    {
     "name": "stdout",
     "output_type": "stream",
     "text": [
      "705/705 [==============================] - 0s 479us/step\n",
      "Rapport de classification :\n",
      "               precision    recall  f1-score   support\n",
      "\n",
      "           0       0.24      0.27      0.25       737\n",
      "           1       0.00      0.00      0.00       359\n",
      "           2       0.00      0.00      0.00      9711\n",
      "           3       0.00      0.00      0.00        20\n",
      "           4       0.00      0.00      0.00         3\n",
      "           5       0.00      0.00      0.00      1231\n",
      "           6       0.00      0.00      0.00       133\n",
      "           7       0.00      0.00      0.00         1\n",
      "           8       0.00      0.00      0.00       141\n",
      "           9       0.00      0.00      0.00         7\n",
      "          10       0.00      0.00      0.00         2\n",
      "          11       0.00      0.00      0.00       293\n",
      "          12       0.00      0.00      0.00       996\n",
      "          13       0.00      0.00      0.00        18\n",
      "          14       0.00      0.00      0.00        17\n",
      "          15       0.04      0.01      0.01      4657\n",
      "          16       0.00      0.00      0.00        73\n",
      "          17       0.00      0.00      0.00         2\n",
      "          18       0.00      0.00      0.00         2\n",
      "          19       0.00      0.00      0.00        41\n",
      "          20       0.00      0.00      0.00       157\n",
      "          21       0.67      0.06      0.10       685\n",
      "          22       0.00      0.00      0.00        15\n",
      "          23       0.00      0.00      0.00        13\n",
      "          24       0.00      0.00      0.00       319\n",
      "          25       0.00      0.00      0.00       735\n",
      "          26       0.00      0.00      0.00        14\n",
      "          27       0.00      0.00      0.00       665\n",
      "          28       0.00      0.00      0.00       178\n",
      "          29       0.00      0.00      0.00       331\n",
      "          30       0.00      0.00      0.00         2\n",
      "          31       0.00      0.00      0.00        12\n",
      "          32       0.00      0.00      0.00         2\n",
      "          33       0.00      0.00      0.00       944\n",
      "          34       0.00      0.00      0.00         2\n",
      "          35       0.00      0.00      0.00         9\n",
      "          36       0.00      0.00      0.00         4\n",
      "          37       0.00      0.00      0.00        13\n",
      "\n",
      "    accuracy                           0.01     22544\n",
      "   macro avg       0.02      0.01      0.01     22544\n",
      "weighted avg       0.04      0.01      0.01     22544\n",
      "\n"
     ]
    }
   ],
   "source": [
    "# Rapport de classification\n",
    "y_pred = model.predict(X_test)\n",
    "y_pred_classes = np.argmax(y_pred, axis=1)\n",
    "print(\"Rapport de classification :\\n\", classification_report(y_test, y_pred_classes, zero_division=0))"
   ]
  }
 ],
 "metadata": {
  "kernelspec": {
   "display_name": ".venv",
   "language": "python",
   "name": "python3"
  },
  "language_info": {
   "codemirror_mode": {
    "name": "ipython",
    "version": 3
   },
   "file_extension": ".py",
   "mimetype": "text/x-python",
   "name": "python",
   "nbconvert_exporter": "python",
   "pygments_lexer": "ipython3",
   "version": "3.11.9"
  }
 },
 "nbformat": 4,
 "nbformat_minor": 2
}

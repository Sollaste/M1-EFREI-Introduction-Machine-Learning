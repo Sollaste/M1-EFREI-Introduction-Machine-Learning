{
 "cells": [
  {
   "cell_type": "code",
   "execution_count": null,
   "metadata": {},
   "outputs": [],
   "source": [
    "import numpy as np\n",
    "import matplotlib as plt"
   ]
  },
  {
   "cell_type": "code",
   "execution_count": null,
   "metadata": {},
   "outputs": [],
   "source": [
    "def randomArrayGenerator(low, high, nbrValues):\n",
    "\n",
    "    randomArray = np.random.uniform(low, high, size=nbrValues)\n",
    "    return randomArray\n",
    "\n",
    "def dataSetGenerator():\n",
    "\n",
    "    classeA = randomArrayGenerator(0, 10, (2, 200))\n",
    "\n",
    "    classeBx = randomArrayGenerator(-10, 0, 200)\n",
    "    classeBy = randomArrayGenerator(0, 10, 200)\n",
    "    classeB = np.vstack((classeBx, classeBy))\n",
    "    \n",
    "    return classeA, classeB"
   ]
  },
  {
   "cell_type": "code",
   "execution_count": null,
   "metadata": {},
   "outputs": [],
   "source": [
    "dataset = dataSetGenerator()\n",
    "print(dataset)"
   ]
  }
 ],
 "metadata": {
  "kernelspec": {
   "display_name": ".venv",
   "language": "python",
   "name": "python3"
  },
  "language_info": {
   "name": "python",
   "version": "3.11.2"
  }
 },
 "nbformat": 4,
 "nbformat_minor": 2
}
